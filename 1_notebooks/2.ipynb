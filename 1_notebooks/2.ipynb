{
<<<<<<< HEAD
  "cells": [
    {
      "cell_type": "markdown",
      "metadata": {},
      "source": [
        "Problem : \n",
        "\n",
        "You are given a dataset where each data point has one feature x and one target variable y. The relationship between x and y is linear, and can be expressed as y = 2x + 3.\n",
        "\n",
        "Your task is to build a neural network that can learn this relationship. That is, given a new x value, your model should be able to predict the corresponding y value."
      ]
=======
  "nbformat": 4,
  "nbformat_minor": 0,
  "metadata": {
    "colab": {
      "provenance": [],
      "authorship_tag": "ABX9TyOeL62o58OQrzHhLHWLQ6t2"
    },
    "kernelspec": {
      "name": "python3",
      "display_name": "Python 3"
    },
    "language_info": {
      "name": "python"
    }
  },
  "cells": [
    {
      "cell_type": "markdown",
      "source": [
        "**Linear regression**\n",
        "--\n",
        "Linear regression is a statistical model used to understand the relationship\n",
        "between two or more variables. simple form  : $$ y = a + bX $$\n",
        "\n",
        "\n",
        "*   y is the dependent variable (the variable we want to predict or estimate).\n",
        "* a  is the y-intercept (the value of y when X=0).\n",
        "* b is the slope (the change in y for a one-unit change in X).\n",
        "*   X is the independent variable (the variable we use to make predictions).\n",
        "\n",
        "\n",
        "\n",
        "\n",
        "\n",
        "\n"
      ],
      "metadata": {
        "id": "yuGMdfRozCKb"
      }
>>>>>>> 472ca7b9880f75265f26e3772b281bb77bc3d08c
    },
    {
      "cell_type": "code",
      "execution_count": 21,
      "metadata": {
        "id": "0lh507MyykqQ"
      },
      "outputs": [],
      "source": [
<<<<<<< HEAD
        "from sklearn.model_prediction import train_test\n"
      ]
    },
    {
      "cell_type": "code",
      "execution_count": null,
      "metadata": {},
      "outputs": [],
      "source": []
=======
        "import torch\n",
        "import matplotlib.pyplot as plt\n",
        "\n",
        "\n",
        "# Example\n",
        "a_variable = 10\n",
        "b_variable = 5\n",
        "X = torch.arange(0,50,5)  # start,stop,slep/lip\n",
        "\n",
        "y = a_variable + (b_variable * X)\n",
        "\n",
        "\n",
        "\n"
      ]
>>>>>>> 472ca7b9880f75265f26e3772b281bb77bc3d08c
    }
  ],
  "metadata": {
    "colab": {
      "authorship_tag": "ABX9TyM6DFTEMTRfrtcOpceNWr7G",
      "include_colab_link": true,
      "provenance": []
    },
    "kernelspec": {
      "display_name": "Python 3",
      "name": "python3"
    },
    "language_info": {
      "name": "python"
    }
  },
  "nbformat": 4,
  "nbformat_minor": 0
}
