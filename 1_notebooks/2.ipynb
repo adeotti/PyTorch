{
 "cells": [
  {
   "cell_type": "markdown",
   "metadata": {},
   "source": [
    "You are given a dataset where each data point has one feature X and one target varibale y. The relationship between X and y is linear, and can be expressed as : $$ y = 2X + 3 $$ \n",
    "Your task is to build a neural network that can learn this relationship. That is, given a new x value, your model should be able to predict the corresponding y value."
   ]
  }
 ],
 "metadata": {
  "language_info": {
   "name": "python"
  }
 },
 "nbformat": 4,
 "nbformat_minor": 2
}
