<<<<<<< HEAD
{
 "cells": [
  {
   "cell_type": "markdown",
   "metadata": {},
   "source": [
    "You are given a dataset where each data point has one feature x and one target variable y. The relationship between x and y is linear, and can be expressed as :\n",
    "y = 2x + 3.\n",
    "\n",
    "Your task is to build a neural network that can learn this relationship. That is, given a new x value, your model should be able to predict the corresponding y value."
   ]
  },
  {
   "cell_type": "markdown",
   "metadata": {},
   "source": []
  }
 ],
 "metadata": {
  "language_info": {
   "name": "python"
  }
 },
 "nbformat": 4,
 "nbformat_minor": 2
}
=======
>>>>>>> bb099998d3f81896534bde99d478ba678c45a408
