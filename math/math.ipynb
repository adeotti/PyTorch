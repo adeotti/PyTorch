{
  "nbformat": 4,
  "nbformat_minor": 0,
  "metadata": {
    "colab": {
      "provenance": [],
      "authorship_tag": "ABX9TyNNmt3HxjpBF7QoUPyw/6lH",
      "include_colab_link": true
    },
    "kernelspec": {
      "name": "python3",
      "display_name": "Python 3"
    },
    "language_info": {
      "name": "python"
    }
  },
  "cells": [
    {
      "cell_type": "markdown",
      "metadata": {
        "id": "view-in-github",
        "colab_type": "text"
      },
      "source": [
        "<a href=\"https://colab.research.google.com/github/adeotti/PyTorch/blob/main/math/math.ipynb\" target=\"_parent\"><img src=\"https://colab.research.google.com/assets/colab-badge.svg\" alt=\"Open In Colab\"/></a>"
      ]
    },
    {
      "cell_type": "markdown",
      "source": [
        "**Linear regression**\n",
        "---\n",
        "Linear regression is a statistical model used to understand the relationship\n",
        "between two or more variables. One form is : $$ y = a + bX $$\n",
        "\n",
        "\n",
        "*   y is the dependent variable (the variable we want to predict or estimate).\n",
        "* a  is the y-intercept (the value of y when X=0).\n",
        "* b is the slope (the change in y for a one-unit change in X).\n",
        "*   X is the independent variable (the variable we use to make predictions).\n",
        "\n",
        "\n",
        "\n",
        "\n",
        "\n",
        "\n"
      ],
      "metadata": {
        "id": "yuGMdfRozCKb"
      }
    },
    {
      "cell_type": "code",
      "execution_count": null,
      "metadata": {
        "id": "0lh507MyykqQ"
      },
      "outputs": [],
      "source": []
    }
  ]
}