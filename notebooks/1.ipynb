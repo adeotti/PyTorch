{
 "cells": [
  {
   "cell_type": "markdown",
   "metadata": {},
   "source": [
    "When creating random tensors, let’s say we generate two random tensors, their values are unlikely to be the same. We can confirm this with the example(1)(we get a False Value). \n",
    "\n",
    "The concept of a random seed helps us control this randomness. For instance, if we generate those two same random tensors again, but this time we set a manual seed using torch.manual_seed, the randomness characteristic of those tensors will be modified as shown in example(2)( we get a True value)\n",
    "\n",
    "This code below will output the same result taking the randomness characteristic out of those two last tensors when adding a random seed method\n",
    "\n",
    "RANDOM_SEED (In uppercase because it's a constant) XD good practice, reminder"
   ]
  },
  {
   "cell_type": "code",
   "execution_count": 6,
   "metadata": {},
   "outputs": [
    {
     "name": "stdout",
     "output_type": "stream",
     "text": [
      "tensor([[False, False, False, False, False],\n",
      "        [False, False, False, False, False],\n",
      "        [False, False, False, False, False]])\n",
      "tensor([[True, True, True, True, True],\n",
      "        [True, True, True, True, True],\n",
      "        [True, True, True, True, True]])\n"
     ]
    }
   ],
   "source": [
    "import torch\n",
    "\n",
    "size = (3,5)\n",
    "\n",
    "# example(1)\n",
    "random_tensor_one = torch.rand(size)\n",
    "random_tensor_two = torch.rand(size)\n",
    "print(random_tensor_one == random_tensor_two) \n",
    "\n",
    "# example(2)\n",
    "RANDOM_SEED = 200  \n",
    "torch.manual_seed(RANDOM_SEED)\n",
    "random_tensor_one = torch.rand(size)\n",
    "torch.manual_seed(RANDOM_SEED)\n",
    "random_tensor_two = torch.rand(size)\n",
    "print(random_tensor_one == random_tensor_two) \n"
   ]
  }
 ],
 "metadata": {
  "kernelspec": {
   "display_name": "Python 3",
   "language": "python",
   "name": "python3"
  },
  "language_info": {
   "codemirror_mode": {
    "name": "ipython",
    "version": 3
   },
   "file_extension": ".py",
   "mimetype": "text/x-python",
   "name": "python",
   "nbconvert_exporter": "python",
   "pygments_lexer": "ipython3",
   "version": "3.10.13"
  }
 },
 "nbformat": 4,
 "nbformat_minor": 2
}
