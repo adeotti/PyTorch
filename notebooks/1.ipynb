{
 "cells": [
  {
   "cell_type": "markdown",
   "metadata": {},
   "source": [
    "Basic stuff hhh"
   ]
  },
  {
   "cell_type": "code",
   "execution_count": 92,
   "metadata": {},
   "outputs": [
    {
     "data": {
      "text/plain": [
       "tensor(20)"
      ]
     },
     "execution_count": 92,
     "metadata": {},
     "output_type": "execute_result"
    }
   ],
   "source": [
    "import torch\n",
    "\n",
    "# Creation\n",
    "size = (3,2,5)\n",
    "tensor_zeros = torch.zeros(size)\n",
    "tensor_ones = torch.ones(size)\n",
    "tensor_empty = torch.empty(size)\n",
    "tensor_random = torch.rand(size)\n",
    "tensor_range = torch.arange(1,100,2) # Start , stop , lip/step\n",
    "\n",
    "# Manipulation \n",
    "tensor_zeros.shape \n",
    "tensor_ones.squeeze()\n",
    "tensor_ones.unsqueeze(2) # add an extra dimension, here : 2\n",
    "tensor_zeros.reshape(2,15)\n",
    "view = tensor_zeros.view(30)  # Mofifying view will modify the origin\n",
    "tensor_empty.flatten(2) # Collapse the tensor to the specified shape, here : 2\n",
    "tensor_stack = torch.stack([tensor_ones,tensor_zeros], dim=0) # vstack , hstack\n",
    "tensor_random.permute(2,1,0) # size = (3,2,5) permute (2,1,0) is like saying size = (5,2,3)\n",
    "\n",
    "# Indexing\n",
    "example = torch.tensor([[[10,23,30,\n",
    "                         23,34,10,\n",
    "                         23,36,20]]])\n",
    "#example.shape = [1,1,9]\n",
    "example[0,0,8] # return 20, element eight of the tensor\n"
   ]
  },
  {
   "cell_type": "markdown",
   "metadata": {},
   "source": [
    "When creating random tensors, let’s say we generate two random tensors, their values are unlikely to be the same. We can confirm this with the example(1)(we get a False Value). \n",
    "\n",
    "The concept of a random seed helps us control this randomness. For instance, if we generate those two same random tensors again, but this time we set a manual seed using torch.manual_seed, the randomness characteristic of those tensors will be modified as shown in example(2)( we get a True value)\n",
    "\n",
    "This code below will output the same result taking the randomness characteristic out of those two last tensors when adding a random seed method"
   ]
  },
  {
   "cell_type": "code",
   "execution_count": 36,
   "metadata": {},
   "outputs": [
    {
     "name": "stdout",
     "output_type": "stream",
     "text": [
      "tensor([[[False, False, False, False, False],\n",
      "         [False, False, False, False, False]],\n",
      "\n",
      "        [[False, False, False, False, False],\n",
      "         [False, False, False, False, False]],\n",
      "\n",
      "        [[False, False, False, False, False],\n",
      "         [False, False, False, False, False]]])\n",
      "tensor([[[True, True, True, True, True],\n",
      "         [True, True, True, True, True]],\n",
      "\n",
      "        [[True, True, True, True, True],\n",
      "         [True, True, True, True, True]],\n",
      "\n",
      "        [[True, True, True, True, True],\n",
      "         [True, True, True, True, True]]])\n"
     ]
    }
   ],
   "source": [
    "import torch\n",
    "\n",
    "size = (3,2,5)\n",
    "\n",
    "# example(1)\n",
    "random_tensor_one = torch.rand(size)\n",
    "random_tensor_two = torch.rand(size)\n",
    "print(random_tensor_one == random_tensor_two) \n",
    "\n",
    "# example(2)\n",
    "RANDOM_SEED = 200  \n",
    "torch.manual_seed(RANDOM_SEED)\n",
    "random_tensor_one = torch.rand(size)\n",
    "torch.manual_seed(RANDOM_SEED)\n",
    "random_tensor_two = torch.rand(size)\n",
    "print(random_tensor_one == random_tensor_two) \n"
   ]
  }
 ],
 "metadata": {
  "kernelspec": {
   "display_name": "Python 3",
   "language": "python",
   "name": "python3"
  },
  "language_info": {
   "codemirror_mode": {
    "name": "ipython",
    "version": 3
   },
   "file_extension": ".py",
   "mimetype": "text/x-python",
   "name": "python",
   "nbconvert_exporter": "python",
   "pygments_lexer": "ipython3",
   "version": "3.10.13"
  }
 },
 "nbformat": 4,
 "nbformat_minor": 2
}
