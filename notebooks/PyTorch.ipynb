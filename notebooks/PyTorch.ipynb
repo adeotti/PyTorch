{
 "cells": [
  {
   "cell_type": "code",
   "execution_count": null,
   "metadata": {},
   "outputs": [],
   "source": [
    "import torch\n",
    "\n",
    "# manipulating the size, shape , order, etc.\n",
    "\n",
    "\n",
    "rand_t = torch.rand(2,8,5, dtype=torch.float32) # remenber, dtype = \"torch.\"\n",
    "zer = torch.ones(2,5,8)\n",
    "Ot = torch.zeros(2,8,5)\n",
    "\n",
    "mul =  rand_t @ zer  #multiplication or just : torch.matmul(tensor a , tensor b)\n",
    "print(f\"Matmul = {mul}\")\n",
    "\n",
    "\n",
    "\n",
    "sta = torch.stack([torch.ones(2,4,8), torch.zeros(2,4,8)])  # Stacking ----------------------------------------\n",
    "ask = input(\"DO you want to see the outout\").lower()\n",
    "if ask == \"yes\" or ask == \"y\" :\n",
    "    print(sta)\n",
    "else :\n",
    "    print(\"\\n Looooool \\n | \\n | \\n V\")\n",
    "   \n",
    "    sta[0,0,1] = 100 # indexing and visualizing where the change is made\n",
    "    print(\"\\n\")\n",
    "    print(sta)     \n"
   ]
  },
  {
   "cell_type": "code",
   "execution_count": null,
   "metadata": {},
   "outputs": [],
   "source": [
    "import torch \n",
    "\n",
    "egg = torch.rand(4,8)\n",
    "egg1 = egg.reshape(32) # 4 * 8 = 32 by the way... hhh lol\n",
    "egg1  # just reshape, keeps the data \n",
    "\n",
    "egg2 = torch.arange(1,1000,5) # range (start, stop , step) \n",
    "egg2\n",
    "\n",
    "random_to_squeez = torch.rand(1,8,8)\n",
    "random_squeezed = random_to_squeez.squeeze()\n",
    "print(\"Hold on hhhhhhhhhhhh, let's vizualize\\n\")\n",
    "print(f\" random_to_squeeze : \\n{random_to_squeez} \\nrandom_squeezed : \\n{random_squeezed}\")\n",
    "\n",
    "# squeeze remove all dimensions of size 1 from the shape of the tensor \n",
    "# Method like \"flatten\" collapse dimensions\n",
    "\n",
    "fat = torch.rand(4,2,5) \n",
    "flat = fat.flatten()\n",
    " # mutliplication from right to left and output one-dimensional tensor\n",
    "print(f\"fat : {fat} \\n flat : {flat} \\n shape : {flat.shape}\")"
   ]
  },
  {
   "cell_type": "code",
   "execution_count": null,
   "metadata": {},
   "outputs": [],
   "source": [
    "import torch\n",
    "\n",
    "x = torch.empty(4,4)\n",
    "y = torch.rand(4,4)\n",
    "\n",
    "\n",
    "print(f\"Empty tensor with uninitialized values :\\n {x}\\n\")\n",
    "print(f\"\\nRandom tensor :\\n {y}\")\n",
    "\n",
    "x = torch.rand(2,4) \n",
    "y = x.permute(1,0) # takes index as entry then shift the axis... hhhh\n",
    "x,y"
   ]
  },
  {
   "cell_type": "code",
   "execution_count": 55,
   "metadata": {},
   "outputs": [
    {
     "name": "stdout",
     "output_type": "stream",
     "text": [
      "tensor([[[ 0,  1,  2,  3,  4],\n",
      "         [ 5,  6,  7,  8,  9],\n",
      "         [10, 11, 12, 13, 14],\n",
      "         [15, 16, 17, 18, 19]]])\n"
     ]
    },
    {
     "data": {
      "text/plain": [
       "tensor([], size=(0, 0, 0), dtype=torch.int64)"
      ]
     },
     "execution_count": 55,
     "metadata": {},
     "output_type": "execute_result"
    }
   ],
   "source": [
    "import torch\n",
    "\n",
    "# Indexing \n",
    "\n",
    "x = torch.arange(0,20).reshape(1,4,5)\n",
    "print(x)\n",
    "x[0:0,3:3,4:4]\n"
   ]
  },
  {
   "cell_type": "code",
   "execution_count": null,
   "metadata": {},
   "outputs": [],
   "source": []
  }
 ],
 "metadata": {
  "kernelspec": {
   "display_name": "Python 3",
   "language": "python",
   "name": "python3"
  },
  "language_info": {
   "codemirror_mode": {
    "name": "ipython",
    "version": 3
   },
   "file_extension": ".py",
   "mimetype": "text/x-python",
   "name": "python",
   "nbconvert_exporter": "python",
   "pygments_lexer": "ipython3",
   "version": "3.10.13"
  }
 },
 "nbformat": 4,
 "nbformat_minor": 2
}
