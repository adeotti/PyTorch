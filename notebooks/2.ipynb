{
  "nbformat": 4,
  "nbformat_minor": 0,
  "metadata": {
    "colab": {
      "provenance": [],
      "authorship_tag": "ABX9TyOeL62o58OQrzHhLHWLQ6t2"
    },
    "kernelspec": {
      "name": "python3",
      "display_name": "Python 3"
    },
    "language_info": {
      "name": "python"
    }
  },
  "cells": [
    {
      "cell_type": "markdown",
      "source": [
        "**Linear regression**\n",
        "--\n",
        "Linear regression is a statistical model used to understand the relationship\n",
        "between two or more variables. simple form  : $$ y = a + bX $$\n",
        "\n",
        "\n",
        "*   y is the dependent variable (the variable we want to predict or estimate).\n",
        "* a  is the y-intercept (the value of y when X=0).\n",
        "* b is the slope (the change in y for a one-unit change in X).\n",
        "*   X is the independent variable (the variable we use to make predictions).\n",
        "\n",
        "\n",
        "\n",
        "\n",
        "\n",
        "\n"
      ],
      "metadata": {
        "id": "yuGMdfRozCKb"
      }
    },
    {
      "cell_type": "code",
      "execution_count": 21,
      "metadata": {
        "id": "0lh507MyykqQ"
      },
      "outputs": [],
      "source": [
        "import torch\n",
        "import matplotlib.pyplot as plt\n",
        "\n",
        "\n",
        "# Example\n",
        "a_variable = 10\n",
        "b_variable = 5\n",
        "X = torch.arange(0,50,5)  # start,stop,slep/lip\n",
        "\n",
        "y = a_variable + (b_variable * X)\n",
        "\n",
        "\n",
        "\n"
      ]
    }
  ]
}